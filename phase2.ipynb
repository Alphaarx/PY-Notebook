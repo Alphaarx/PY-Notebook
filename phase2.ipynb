{
 "cells": [
  {
   "cell_type": "markdown",
   "id": "b7227a02",
   "metadata": {},
   "source": [
    "## Numpy Array Operations"
   ]
  },
  {
   "cell_type": "code",
   "execution_count": 1,
   "id": "fedd49e7",
   "metadata": {},
   "outputs": [],
   "source": [
    "import numpy as np "
   ]
  },
  {
   "cell_type": "markdown",
   "id": "06783dc5",
   "metadata": {},
   "source": [
    "## Slicing"
   ]
  },
  {
   "cell_type": "code",
   "execution_count": 2,
   "id": "a1d816ea",
   "metadata": {},
   "outputs": [
    {
     "name": "stdout",
     "output_type": "stream",
     "text": [
      "Basic slicing:  [2 3 4 5 6]\n"
     ]
    }
   ],
   "source": [
    "#slicing\n",
    "arr= np.arange(12)\n",
    "\n",
    "print(\"Basic slicing: \",arr[2:7])"
   ]
  },
  {
   "cell_type": "code",
   "execution_count": 3,
   "id": "3b9c81ca",
   "metadata": {},
   "outputs": [
    {
     "name": "stdout",
     "output_type": "stream",
     "text": [
      "specific element:  6\n",
      "specific element:  1\n",
      "specific element:  [7 8 9]\n",
      "specific element:  [3 6 9]\n"
     ]
    }
   ],
   "source": [
    "#2d array \n",
    "\n",
    "arr2= np.array([[1,2,3],\n",
    "                [4,5,6],\n",
    "                [7,8,9]])\n",
    "print(\"specific element: \",arr2[1,2])\n",
    "print(\"specific element: \",arr2[0,0])\n",
    "print(\"specific element: \",arr2[2])#row \n",
    "print(\"specific element: \",arr2[:,2])#column"
   ]
  },
  {
   "cell_type": "markdown",
   "id": "bfac6424",
   "metadata": {},
   "source": [
    "## Sorting"
   ]
  },
  {
   "cell_type": "code",
   "execution_count": 4,
   "id": "68484dbe",
   "metadata": {},
   "outputs": [
    {
     "name": "stdout",
     "output_type": "stream",
     "text": [
      "\n",
      " Sorted Array shape: \n",
      " [  1   2   3   3   5   5   6   6   6   8  23  56 456]\n",
      "Shored by 2D array by column: \n",
      " [[2 1]\n",
      " [3 1]\n",
      " [3 2]]\n",
      "Shored by 2D array by row : \n",
      " [[1 3]\n",
      " [2 3]\n",
      " [1 2]]\n"
     ]
    }
   ],
   "source": [
    "unsorted= np.array([3,5,6,23,2,5,6,8,1,3,456,56,6])\n",
    "print(\"\\n Sorted Array shape: \\n\",np.sort(unsorted))\n",
    "\n",
    "arr2d=np.array([[3,1],[3,2],[2,1]])\n",
    "print(\"Shored by 2D array by column: \\n\",np.sort(arr2d,axis=0))\n",
    "print(\"Shored by 2D array by row : \\n\",np.sort(arr2d,axis=1))"
   ]
  },
  {
   "cell_type": "markdown",
   "id": "b7efb8e7",
   "metadata": {},
   "source": [
    "## Flitering"
   ]
  },
  {
   "cell_type": "code",
   "execution_count": 5,
   "id": "f2d73e6b",
   "metadata": {},
   "outputs": [
    {
     "name": "stdout",
     "output_type": "stream",
     "text": [
      "Even numbers:  [ 0  2  4  6  8 10]\n"
     ]
    }
   ],
   "source": [
    "numbers=np.arange(12)\n",
    "even_num=numbers[numbers%2==0] #mask \n",
    "print(\"Even numbers: \",even_num)"
   ]
  },
  {
   "cell_type": "markdown",
   "id": "50a37e3c",
   "metadata": {},
   "source": [
    "## filter with mask"
   ]
  },
  {
   "cell_type": "code",
   "execution_count": 6,
   "id": "809b46b4",
   "metadata": {},
   "outputs": [
    {
     "name": "stdout",
     "output_type": "stream",
     "text": [
      "numbers >5 : [ 6  7  8  9 10 11]\n"
     ]
    }
   ],
   "source": [
    "mask= numbers>5 #expretion\n",
    "print(\"numbers >5 :\",numbers[mask]) #hold evalution's evalutons  "
   ]
  },
  {
   "cell_type": "markdown",
   "id": "f3e42140",
   "metadata": {},
   "source": [
    "## fancy indexing vs np.where"
   ]
  },
  {
   "cell_type": "code",
   "execution_count": 7,
   "id": "e8d5ced9",
   "metadata": {},
   "outputs": [
    {
     "name": "stdout",
     "output_type": "stream",
     "text": [
      "[0 2 3]\n",
      "[ 6  7  8  9 10 11]\n",
      "(array([ 6,  7,  8,  9, 10, 11]),)\n"
     ]
    }
   ],
   "source": [
    "indices=[0,2,3] \n",
    "print(numbers[indices])#array position value ..\n",
    "\n",
    "where_result= np.where(numbers>5)\n",
    "print(numbers[where_result])\n",
    "print(where_result)"
   ]
  },
  {
   "cell_type": "code",
   "execution_count": 8,
   "id": "bfbbb472",
   "metadata": {},
   "outputs": [
    {
     "name": "stdout",
     "output_type": "stream",
     "text": [
      "['false' 'false' 'false' 'false' 'false' 'false' 'true' 'true' 'true'\n",
      " 'true' 'true' 'true']\n"
     ]
    }
   ],
   "source": [
    "condition_arr= np.where(numbers>5,\"true\", \"false\")\n",
    "# if(numbers>5){\n",
    "#     True\n",
    "# }\n",
    "# else{\n",
    "# False  }\n",
    "\n",
    "\n",
    "print(condition_arr)"
   ]
  },
  {
   "cell_type": "markdown",
   "id": "33bff860",
   "metadata": {},
   "source": [
    "## Adding and removind datas\n"
   ]
  },
  {
   "cell_type": "code",
   "execution_count": null,
   "id": "1b102e21",
   "metadata": {},
   "outputs": [
    {
     "name": "stdout",
     "output_type": "stream",
     "text": [
      "[ 5 10 12]\n",
      "[3 6 7 2 4 5]\n"
     ]
    }
   ],
   "source": [
    "arr1=np.array([2,4,5])\n",
    "arr2=np.array([3,6,7])\n",
    "combined=np.concatenate((arr2,arr1)) #add\n",
    "\n",
    "print(arr1+arr2)\n",
    "print(combined)\n"
   ]
  },
  {
   "cell_type": "markdown",
   "id": "9db4346b",
   "metadata": {},
   "source": [
    "## Array comatibility"
   ]
  },
  {
   "cell_type": "code",
   "execution_count": 15,
   "id": "354b56b0",
   "metadata": {},
   "outputs": [
    {
     "name": "stdout",
     "output_type": "stream",
     "text": [
      "comatibility check:  True\n",
      "comatibility check:  False\n"
     ]
    }
   ],
   "source": [
    "arr1=np.array([2,4,5])\n",
    "arr2=np.array([3,6,7])\n",
    "arr3=np.array([3,6,7,3,4,5])\n",
    "\n",
    "\n",
    "\n",
    "print(\"comatibility check: \", arr1.shape==arr2.shape)\n",
    "print(\"comatibility check: \", arr1.shape==arr3.shape)\n"
   ]
  },
  {
   "cell_type": "code",
   "execution_count": null,
   "id": "c6f1099c",
   "metadata": {},
   "outputs": [
    {
     "name": "stdout",
     "output_type": "stream",
     "text": [
      "[[1 2]\n",
      " [3 4]\n",
      " [5 7]]\n",
      "\n",
      " [[1 2 7]\n",
      " [3 4 9]]\n"
     ]
    }
   ],
   "source": [
    "original=np.array([[1,2],[3,4]])\n",
    "new_row=np.array([[5,7]])\n",
    "with_new_row=np.vstack((original,new_row)) #vstack  adds row\n",
    "print(with_new_row)\n",
    "\n",
    "new_col=np.array([[7],[9]])\n",
    "with_new_col=np.hstack((original,new_col)) #hstack adds column\n",
    "print(\"\\n\",with_new_col)"
   ]
  },
  {
   "cell_type": "code",
   "execution_count": null,
   "id": "13d27dd2",
   "metadata": {},
   "outputs": [
    {
     "name": "stdout",
     "output_type": "stream",
     "text": [
      "\n",
      " [1 2 4 5]\n"
     ]
    }
   ],
   "source": [
    "#Deleting\n",
    "\n",
    "arr=np.array([1,2,3,4,5])\n",
    "deleted=np.delete(arr,2) #delet the position as mention ....retune the array after deletion.!!\n",
    "\n",
    "print(\"\\n\",deleted)"
   ]
  }
 ],
 "metadata": {
  "kernelspec": {
   "display_name": "venv",
   "language": "python",
   "name": "python3"
  },
  "language_info": {
   "codemirror_mode": {
    "name": "ipython",
    "version": 3
   },
   "file_extension": ".py",
   "mimetype": "text/x-python",
   "name": "python",
   "nbconvert_exporter": "python",
   "pygments_lexer": "ipython3",
   "version": "3.12.5"
  }
 },
 "nbformat": 4,
 "nbformat_minor": 5
}
