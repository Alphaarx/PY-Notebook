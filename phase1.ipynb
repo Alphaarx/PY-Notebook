{
 "cells": [
  {
   "cell_type": "markdown",
   "id": "d9419454",
   "metadata": {},
   "source": [
    "## NUMPY ARRAY AND BASICS "
   ]
  },
  {
   "cell_type": "code",
   "execution_count": 2,
   "id": "7d564f3e",
   "metadata": {},
   "outputs": [],
   "source": [
    "import numpy as np "
   ]
  },
  {
   "cell_type": "markdown",
   "id": "5664e15f",
   "metadata": {},
   "source": [
    "creating array from list"
   ]
  },
  {
   "cell_type": "code",
   "execution_count": 6,
   "id": "b83fa98f",
   "metadata": {},
   "outputs": [
    {
     "name": "stdout",
     "output_type": "stream",
     "text": [
      "1D Array : [1 2 3 4 5]\n"
     ]
    },
    {
     "ename": "TypeError",
     "evalue": "Field elements must be 2- or 3-tuples, got '4'",
     "output_type": "error",
     "traceback": [
      "\u001b[31m---------------------------------------------------------------------------\u001b[39m",
      "\u001b[31mTypeError\u001b[39m                                 Traceback (most recent call last)",
      "\u001b[36mCell\u001b[39m\u001b[36m \u001b[39m\u001b[32mIn[6]\u001b[39m\u001b[32m, line 4\u001b[39m\n\u001b[32m      1\u001b[39m arr_1d=np.array([\u001b[32m1\u001b[39m,\u001b[32m2\u001b[39m,\u001b[32m3\u001b[39m,\u001b[32m4\u001b[39m,\u001b[32m5\u001b[39m])\n\u001b[32m      2\u001b[39m \u001b[38;5;28mprint\u001b[39m(\u001b[33m\"\u001b[39m\u001b[33m1D Array :\u001b[39m\u001b[33m\"\u001b[39m,arr_1d)\n\u001b[32m----> \u001b[39m\u001b[32m4\u001b[39m arr_2d=\u001b[43mnp\u001b[49m\u001b[43m.\u001b[49m\u001b[43marray\u001b[49m\u001b[43m(\u001b[49m\u001b[43m[\u001b[49m\u001b[32;43m1\u001b[39;49m\u001b[43m,\u001b[49m\u001b[32;43m2\u001b[39;49m\u001b[43m,\u001b[49m\u001b[32;43m3\u001b[39;49m\u001b[43m]\u001b[49m\u001b[43m,\u001b[49m\u001b[43m[\u001b[49m\u001b[32;43m4\u001b[39;49m\u001b[43m,\u001b[49m\u001b[32;43m5\u001b[39;49m\u001b[43m,\u001b[49m\u001b[32;43m6\u001b[39;49m\u001b[43m]\u001b[49m\u001b[43m)\u001b[49m\n\u001b[32m      5\u001b[39m \u001b[38;5;28mprint\u001b[39m(\u001b[33m\"\u001b[39m\u001b[33m2D Array : \u001b[39m\u001b[33m\"\u001b[39m,arr_2d)\n",
      "\u001b[31mTypeError\u001b[39m: Field elements must be 2- or 3-tuples, got '4'"
     ]
    }
   ],
   "source": [
    "arr_1d=np.array([1,2,3,4,5])\n",
    "print(\"1D Array :\",arr_1d)\n",
    "\n",
    "arr_2d=np.array([1,2,3],[4,5,6])\n",
    "print(\"2D Array : \",arr_2d)"
   ]
  },
  {
   "cell_type": "markdown",
   "id": "ba633410",
   "metadata": {},
   "source": [
    "list VS Numpy"
   ]
  },
  {
   "cell_type": "code",
   "execution_count": 9,
   "id": "60727ffa",
   "metadata": {},
   "outputs": [
    {
     "name": "stdout",
     "output_type": "stream",
     "text": [
      "list * 2 : [1, 2, 3, 1, 2, 3]\n",
      "Array *2  : [2 4 6]\n",
      "\n",
      " List operation time :  0.0010027885437011719\n",
      "\n",
      " Numpy operation time :  0.0019986629486083984\n"
     ]
    }
   ],
   "source": [
    "list=[1,2,3]\n",
    "print(\"list * 2 :\", list*2)\n",
    "\n",
    "np_array=np.array([1,2,3]) #elements wise multilicaton\n",
    "print(\"Array *2  :\",np_array*2)\n",
    "\n",
    "import time\n",
    "start=time.time()\n",
    "list=[i*2 for i in range(10000)]\n",
    "print(\"\\n List operation time : \", time.time() - start)\n",
    "\n",
    "start=time.time()\n",
    "np_array=np.arange(10000) * 2\n",
    "print(\"\\n Numpy operation time : \", time.time() - start)"
   ]
  },
  {
   "cell_type": "markdown",
   "id": "056152d0",
   "metadata": {},
   "source": [
    "creating new new array"
   ]
  },
  {
   "cell_type": "code",
   "execution_count": null,
   "id": "6bb3c2d8",
   "metadata": {},
   "outputs": [
    {
     "name": "stdout",
     "output_type": "stream",
     "text": [
      "Zero matrix: \n",
      " [[0. 0. 0. 0.]\n",
      " [0. 0. 0. 0.]\n",
      " [0. 0. 0. 0.]]\n",
      "One matrix: \n",
      " [[1. 1. 1. 1.]\n",
      " [1. 1. 1. 1.]\n",
      " [1. 1. 1. 1.]]\n",
      "full matrix: \n",
      " [[7 7 7 7]\n",
      " [7 7 7 7]\n",
      " [7 7 7 7]]\n",
      "random matrix: \n",
      " [[63.00009472 15.31513494 10.007567   59.82800705]\n",
      " [91.38798208  8.94381906 25.20904139  7.57370308]\n",
      " [69.29051363 73.32063496  8.11822743 69.35165167]]\n",
      "Sequence array: \n",
      " [1 3 5 7 9]\n"
     ]
    }
   ],
   "source": [
    "zero=np.zeros((3,4)) #row , colum \n",
    "print(\"Zero matrix: \\n\",zero)\n",
    "\n",
    "\n",
    "one=np.ones((3,4)) #row , colum \n",
    "print(\"One matrix: \\n\",one)\n",
    "\n",
    "#Full methords\n",
    "full=np.full((3,4),7 ) #((row , colum ), element want to fill the matrix)\n",
    "print(\"full matrix: \\n\",full)\n",
    "\n",
    "#Random Methods\n",
    "random=np.random.random((3,4)) *100\n",
    "print(\"random matrix: \\n\",random)\n",
    "\n",
    "\n",
    "#secequenc array\n",
    "seq=np.arange(1,10,2) #start , end , step\n",
    "print(\"Sequence array: \\n\",seq)"
   ]
  },
  {
   "cell_type": "markdown",
   "id": "23845cfb",
   "metadata": {},
   "source": [
    "## Vector , Matrix and Tensor"
   ]
  },
  {
   "cell_type": "code",
   "execution_count": 7,
   "id": "c5e042a2",
   "metadata": {},
   "outputs": [
    {
     "name": "stdout",
     "output_type": "stream",
     "text": [
      "Vector: \n",
      " [1 2 3]\n",
      "Matrix: \n",
      " [[1 2 3]\n",
      " [4 5 6]]\n",
      "Tensor: \n",
      " [[[1 2]\n",
      "  [3 4]]\n",
      "\n",
      " [[5 6]\n",
      "  [7 8]]]\n"
     ]
    }
   ],
   "source": [
    "\n",
    "vector=np.array([1,2,3])\n",
    "print(\"Vector: \\n\",vector)\n",
    "\n",
    "#Matrix is a 2D array\n",
    "#Here we create a 2D matrix with shape (2, 3)\n",
    "matrix=np.array([[1,2,3],\n",
    "                 [4,5,6]])\n",
    "print(\"Matrix: \\n\",matrix)\n",
    "\n",
    "#Tensor is a multi-dimensional array\n",
    "#Here we create a 3D tensor with shape (2, 2, 2)\n",
    "tensor=np.array([[[1,2],[3,4]],\n",
    "                 [[5,6],[7,8]]])\n",
    "print(\"Tensor: \\n\",tensor)"
   ]
  },
  {
   "cell_type": "markdown",
   "id": "b1d75c56",
   "metadata": {},
   "source": [
    "Array properties\n"
   ]
  },
  {
   "cell_type": "code",
   "execution_count": 10,
   "id": "45f166c4",
   "metadata": {},
   "outputs": [
    {
     "name": "stdout",
     "output_type": "stream",
     "text": [
      "shape :  (2, 3)\n",
      "dimention :  2\n",
      "data type :  int64\n",
      "size :  6\n"
     ]
    }
   ],
   "source": [
    "arr= np.array([[1,2,3],\n",
    "               [4,5,6]])\n",
    "print(\"shape : \",arr.shape)\n",
    "print(\"dimention : \",arr.ndim)\n",
    "print(\"data type : \",arr.dtype)\n",
    "print(\"size : \",arr.size)"
   ]
  },
  {
   "cell_type": "markdown",
   "id": "c2bf2429",
   "metadata": {},
   "source": [
    "## Array Reshape\n"
   ]
  },
  {
   "cell_type": "code",
   "execution_count": 19,
   "id": "fef45ac5",
   "metadata": {},
   "outputs": [
    {
     "name": "stdout",
     "output_type": "stream",
     "text": [
      "Original array:  [ 0  1  2  3  4  5  6  7  8  9 10 11]\n",
      "\n",
      " Reshaped Array: \n",
      " [[ 0  1  2  3]\n",
      " [ 4  5  6  7]\n",
      " [ 8  9 10 11]]\n",
      "\n",
      " Reshaped Array shape: \n",
      " (3, 4)\n",
      "\n",
      " flattend Array:  [ 0  1  2  3  4  5  6  7  8  9 10 11]\n",
      "\n",
      " raveled Array:  [ 0  1  2  3  4  5  6  7  8  9 10 11]\n",
      "\n",
      "transpose Array: \n",
      " [[ 0  4  8]\n",
      " [ 1  5  9]\n",
      " [ 2  6 10]\n",
      " [ 3  7 11]]\n",
      "\n",
      "transpose Array shape: \n",
      " (4, 3)\n"
     ]
    }
   ],
   "source": [
    "arr= np.arange(12)\n",
    "print(\"Original array: \",arr)\n",
    "\n",
    "#reshaped the array \n",
    "reshape= arr.reshape((3,4))\n",
    "print(\"\\n Reshaped Array: \\n\", reshape)\n",
    "print(\"\\n Reshaped Array shape: \\n\",reshape.shape)\n",
    "\n",
    "#flattend array   ...return the copy\n",
    "flattened=reshape.flatten()\n",
    "print(\"\\n flattend Array: \",flattened)\n",
    "\n",
    "#it returns view instead of copy ......return original array\n",
    "raveled=reshape.ravel()\n",
    "print(\"\\n raveled Array: \",raveled)\n",
    "\n",
    "#Transpose\n",
    "transpose=reshape.T\n",
    "print(\"\\ntranspose Array: \\n\",transpose)\n",
    "print(\"\\ntranspose Array shape: \\n\",transpose.shape)"
   ]
  }
 ],
 "metadata": {
  "kernelspec": {
   "display_name": "venv",
   "language": "python",
   "name": "python3"
  },
  "language_info": {
   "codemirror_mode": {
    "name": "ipython",
    "version": 3
   },
   "file_extension": ".py",
   "mimetype": "text/x-python",
   "name": "python",
   "nbconvert_exporter": "python",
   "pygments_lexer": "ipython3",
   "version": "3.12.5"
  }
 },
 "nbformat": 4,
 "nbformat_minor": 5
}
